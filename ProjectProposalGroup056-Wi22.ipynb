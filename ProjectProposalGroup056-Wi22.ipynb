{
 "cells": [
  {
   "cell_type": "markdown",
   "metadata": {},
   "source": [
    "# COGS 108 - Final Project Proposal"
   ]
  },
  {
   "cell_type": "markdown",
   "metadata": {},
   "source": [
    "# Names\n",
    "\n",
    "- Sarai Mendoza\n",
    "- Aretha Li\n",
    "- Scott Shyu\n",
    "- Jing Yuan\n",
    "- Ramtin Kazemi"
   ]
  },
  {
   "cell_type": "markdown",
   "metadata": {},
   "source": [
    "# Research Question"
   ]
  },
  {
   "cell_type": "markdown",
   "metadata": {},
   "source": [
    "Is there a relationship between the suicide rate of North American countries and the country's average surface temperature? \n"
   ]
  },
  {
   "cell_type": "markdown",
   "metadata": {},
   "source": [
    "## Background and Prior Work"
   ]
  },
  {
   "cell_type": "markdown",
   "metadata": {},
   "source": [
    "Introduction:\n",
    "\n",
    "As suicide rates begin to increase over time, it has certainly become a hot topic and the world has been trying to find ways to support mental health. On top of that, climate change and global warming have also been increasingly hot topics. However, when it comes to hot temperatures people don’t usually think about how this affects their mental health except that it’s just really hot. In this project, we are interested in finding out how increasing temperature affects the mental health and well-being of those in North American countries. Although some people might be used to the change in drastic temperature, there are people who have not adapted themselves to this change which could lead to alarming health issues. There has been some research done on whether or not an increased temperature has increased rates of aggressive behavior but we aim to discover whether or not there is a relationship between suicide rates in North American countries and the rising temperatures caused by climate change. \n",
    "\n",
    "Prior work:\n",
    "\n",
    "When tackling such a recent and delicate topic, it is important to consult previous literature that relates to our research question. In prior research on seasonal affective disorder (SAD), scientists have found a link to a decline in mental health during the hotter months of the year (3). While this doesn’t conclusively link climate change and suicide, it does debunk the common misconception that colder and darker weather leads to a break in mental health. It also leads to possible implication of the rapidly rising temperature on mental health and ultimately suicide rates. \n",
    "In a 2018 article by Science Daily, a study led by Stanford University analyzed half a billion Twitter updates or tweets and discovered, during hot spells, that there was an increased use in depressive language such as “lonely”, “trapped”, and “suicidal”. (2)  In an article published by the American Psychiatry Association, they state how the loss and trauma (ie. losing your house and job) caused by extreme weather can lead to depression and anxiety and can also be positively linked to aggressive behavior, alcohol abuse, and domestic violence. They also claim that the long-standing effects of climate change, like food scarcity, loss of employment, and migration, will have a negative impact on mental health (1).  \n",
    "\n",
    "References (include links):\n",
    "\n",
    "1) https://www.psychiatry.org/patients-families/climate-change-and-mental-health-connections/affects-on-mental-health\n",
    "\n",
    "2) https://www.sciencedaily.com/releases/2018/07/180723142837.htm\n",
    "\n",
    "3) https://en.wikipedia.org/wiki/Seasonal_effects_on_suicide_rates\n"
   ]
  },
  {
   "cell_type": "markdown",
   "metadata": {},
   "source": [
    "# Hypothesis\n"
   ]
  },
  {
   "cell_type": "markdown",
   "metadata": {},
   "source": [
    "In our study, we hypothesize that there is a positive relationship between the suicide rate of North American countries and the country’s average surface temperature, meaning the higher the average surface temperature of the country, the higher the suicide rate is in the country. We believe this is the case because an increase in overall temperature would lead to more stress and negative mood or aggression, leading to an overall deterioration of mental well-being. A higher deterioration of mental well-being can push people closer to depression and may lead to higher rates of suicide in a country. "
   ]
  },
  {
   "cell_type": "markdown",
   "metadata": {},
   "source": [
    "# Data"
   ]
  },
  {
   "cell_type": "markdown",
   "metadata": {},
   "source": [
    "For this project, the independent variable will be the average temperature of each country in North America from 1985 to 2013 and the dependent variable will be the suicide rate of each country in North American from 1985 to 2013. We should have the average surface temperature and the suicide rate in all North American countries (United States, Canada, and Mexico) for each year from 1985 to 2013. We will be getting our data from Kaggle which contains data from Berkeley Earth for the average surface temperature and the WHO for the number of suicides. We will be using scatter plots to organize and visualize our data. \n",
    "\n",
    "Dataset for the number of suicides for each country divided by age group and year(1985 to 2016): \n",
    "https://www.kaggle.com/russellyates88/suicide-rates-overview-1985-to-2016\n",
    "\n",
    "Dataset for the average temperature in each country (1749 to 2013)\n",
    "https://www.kaggle.com/berkeleyearth/climate-change-earth-surface-temperature-data?select=GlobalLandTemperaturesByCountry.csv \n",
    "\n"
   ]
  },
  {
   "cell_type": "markdown",
   "metadata": {},
   "source": [
    "# Ethics & Privacy"
   ]
  },
  {
   "cell_type": "markdown",
   "metadata": {},
   "source": [
    "The data we use will remain anonymous and it does not reveal anyone’s information that is identifiable by others. If there are any biases in the data we will remove them. Our project does not involve using human subjects, just anonymous data that we will analyze and sort by age group and year. The data will be analyzed with an open-mind to avoid source biases. If there are any issues with the data we found, we will remove the data source and replace it with another. Any following issues that are identified will be discussed with a TA for further assistance if needed. \n"
   ]
  },
  {
   "cell_type": "markdown",
   "metadata": {},
   "source": [
    "# Team Expectations "
   ]
  },
  {
   "cell_type": "markdown",
   "metadata": {},
   "source": [
    "1. Respect one another\n",
    "2. All members are expected to be present during the meeting times, share ideas, and give feedback. \n",
    "3. All members need to communicate if there is a problem or if a team member can not make it to the meeting, they should let the team know ahead of time. \n",
    "3. All members should be accountable for their share of the work and if a member needs help, don’t be afraid to ask for help.  \n"
   ]
  },
  {
   "cell_type": "markdown",
   "metadata": {},
   "source": [
    "# Project Timeline Proposal"
   ]
  },
  {
   "cell_type": "markdown",
   "metadata": {},
   "source": [
    "| Meeting Date  | Meeting Time| Completed Before Meeting  | Discuss at Meeting |\n",
    "|---|---|---|---|\n",
    "| 1/22  |  8 PM | Read & Think about COGS 108 expectations; brainstorm topics/questions  | Determine best form of communication; Discuss and decide on final project topic; discuss hypothesis; begin background research | \n",
    "| 1/25  |  8 PM |  Do background research on topic | Discuss ideal dataset(s) and ethics; draft project proposal | \n",
    "| 1/27  | 8 PM  | Edit, finalize, and submit proposal; Search for datasets  | Discuss Wrangling and possible analytical approaches; Assign group members to lead each specific part   |\n",
    "| 2/5  | 8 PM  | Import & Wrangle Data; EDA  | Review/Edit wrangling/EDA; Discuss Analysis Plan   |\n",
    "| 2/15  | 8 PM  | Finalize wrangling/EDA; Begin Analysis | Discuss/edit Analysis; Complete project check-in |\n",
    "| 3/1  | 8 PM  | Complete analysis; Draft results/conclusion/discussion | Discuss/edit full project |\n",
    "| 3/13  | Before 11:59 PM  | NA | Turn in Final Project & Group Project Surveys |"
   ]
  },
  {
   "cell_type": "code",
   "execution_count": null,
   "metadata": {},
   "outputs": [],
   "source": []
  }
 ],
 "metadata": {
  "kernelspec": {
   "display_name": "Python 3 (ipykernel)",
   "language": "python",
   "name": "python3"
  },
  "language_info": {
   "codemirror_mode": {
    "name": "ipython",
    "version": 3
   },
   "file_extension": ".py",
   "mimetype": "text/x-python",
   "name": "python",
   "nbconvert_exporter": "python",
   "pygments_lexer": "ipython3",
   "version": "3.9.5"
  }
 },
 "nbformat": 4,
 "nbformat_minor": 2
}
